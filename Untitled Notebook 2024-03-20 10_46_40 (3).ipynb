{
 "cells": [
  {
   "cell_type": "code",
   "execution_count": 0,
   "metadata": {
    "application/vnd.databricks.v1+cell": {
     "cellMetadata": {},
     "inputWidgets": {},
     "nuid": "40d53ce8-2548-48d4-99cc-7d70b9d134d1",
     "showTitle": false,
     "title": ""
    }
   },
   "outputs": [],
   "source": [
    "def getWatermark(s, t, froms, to, update_dt):\n",
    "\n",
    "    collect = spark.sql(\n",
    "        f\"\"\" \n",
    "    select watermark_value from prep_ms_row.edw_loading_control \n",
    "    where tgt_tbl_name = '{t}' \n",
    "      and src_tbl_name = '{s}'\n",
    "    \"\"\"\n",
    "    ).collect()\n",
    "    if len(collect) != 0:\n",
    "        watermarkFrom = collect[0][\"watermark_value\"]\n",
    "    else:\n",
    "        watermarkFrom = \"1970-01-01 00:00:00\"\n",
    "    if watermarkFrom == None:\n",
    "        watermarkFrom = \"1970-01-01 00:00:00\"\n",
    "    spark.sql(f\"\"\" set {froms} = '{watermarkFrom}' \"\"\")\n",
    "\n",
    "    collect = spark.sql(\n",
    "        f\"\"\" \n",
    "    select max({update_dt}) as dw_update_dt from {s}\n",
    "    \"\"\"\n",
    "    ).collect()\n",
    "    if len(collect) != 0:\n",
    "        watermarkTo = collect[0][\"dw_update_dt\"]\n",
    "    else:\n",
    "        watermarkTo = \"1970-01-01 00:00:00\"\n",
    "    if watermarkTo == None:\n",
    "        watermarkTo = \"1970-01-01 00:00:00\"\n",
    "    spark.sql(f\"\"\" set {to} = '{watermarkTo}' \"\"\")\n",
    "\n",
    "\n",
    "getWatermark(\n",
    "    \"ods.ap_pcsd_ceo_ww_pcsd_daily_load\",\n",
    "    \"cam_ms.corp_kpi_ww_daily_order_load\",\n",
    "    \"zz.watermarkFrom_1\",\n",
    "    \"zz.watermarkTo_1\",\n",
    "    \"__dl_update_dt\",\n",
    ")\n",
    "getWatermark(\n",
    "    \"ods.fr_isg_load_ww_dashboard\",\n",
    "    \"cam_ms.corp_kpi_ww_daily_order_load\",\n",
    "    \"zz.watermarkFrom_2\",\n",
    "    \"zz.watermarkTo_2\",\n",
    "    \"__dl_update_dt\",\n",
    ")\n",
    "getWatermark(\n",
    "    \"ods.bigquery_mbg_daily_order_load\",\n",
    "    \"cam_ms.corp_kpi_ww_daily_order_load\",\n",
    "    \"zz.watermarkFrom_3\",\n",
    "    \"zz.watermarkTo_3\",\n",
    "    \"__dl_update_dt\",\n",
    ")\n",
    "getWatermark(\n",
    "    \"prep_ms_row.fact_isg_prc_cust_and_product_seg_loads\",\n",
    "    \"cam_ms.corp_kpi_ww_daily_order_load\",\n",
    "    \"zz.watermarkFrom_4\",\n",
    "    \"zz.watermarkTo_4\",\n",
    "    \"dw_update_dt\",\n",
    ")\n",
    "getWatermark(\n",
    "    \"cam_ms.fact_sales_target_track\",\n",
    "    \"cam_ms.corp_kpi_ww_daily_order_load\",\n",
    "    \"zz.watermarkFrom_5\",\n",
    "    \"zz.watermarkTo_5\",\n",
    "    \"dw_update_dt\",\n",
    ");"
   ]
  }
 ],
 "metadata": {
  "application/vnd.databricks.v1+notebook": {
   "dashboards": [],
   "language": "python",
   "notebookMetadata": {
    "pythonIndentUnit": 4
   },
   "notebookName": "Untitled Notebook 2024-03-20 10:46:40",
   "widgets": {}
  }
 },
 "nbformat": 4,
 "nbformat_minor": 0
}
